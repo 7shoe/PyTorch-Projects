{
 "cells": [
  {
   "cell_type": "code",
   "execution_count": 48,
   "id": "82029868",
   "metadata": {},
   "outputs": [],
   "source": [
    "import torch\n",
    "import torch.nn as nn\n",
    "import torch.optim as optim\n",
    "from typing import Tuple\n",
    "\n",
    "import numpy as np"
   ]
  },
  {
   "cell_type": "code",
   "execution_count": 49,
   "id": "565061fa",
   "metadata": {},
   "outputs": [],
   "source": [
    "class BasicBlock(nn.Module):\n",
    "    def __init__(self, in_c:int, downsample:bool, bias:bool=False):\n",
    "        super().__init__()\n",
    "            \n",
    "        self.in_c       = in_c\n",
    "        self.bias       = bias\n",
    "        self.downsample = downsample\n",
    "\n",
    "        if(self.downsample):\n",
    "            self.conv1 = nn.Conv2d(self.in_c, 2*self.in_c, kernel_size=3, stride=2, padding=1, bias=self.bias)\n",
    "            self.bn1   = nn.BatchNorm2d(2*self.in_c)\n",
    "            self.relu  = nn.ReLU(inplace=True)\n",
    "            self.conv2 = nn.Conv2d(2*self.in_c, 2*self.in_c, kernel_size=3, stride=1, padding=1, bias=self.bias)\n",
    "            self.bn2   = nn.BatchNorm2d(2*self.in_c)\n",
    "            self.down  = nn.Sequential(nn.Conv2d(in_c, 2*self.in_c, kernel_size=1, stride=2, bias=self.bias),\n",
    "                                       nn.BatchNorm2d(2*self.in_c)) \n",
    "        else:\n",
    "            self.conv1 = nn.Conv2d(self.in_c, self.in_c, kernel_size=3, stride=1, padding=1, bias=self.bias)\n",
    "            self.bn1   = nn.BatchNorm2d(self.in_c)\n",
    "            self.relu  = nn.ReLU(inplace=True)\n",
    "            self.conv2 = nn.Conv2d(self.in_c, self.in_c, kernel_size=3, stride=1, padding=1, bias=self.bias)\n",
    "            self.bn2   = nn.BatchNorm2d(self.in_c)\n",
    "\n",
    "    def forward(self, x):\n",
    "        identity = x\n",
    "        out = self.conv1(x)\n",
    "        out = self.bn1(out)\n",
    "        out = self.relu(out)\n",
    "        out = self.conv2(out)\n",
    "        out = self.bn2(out)\n",
    "\n",
    "        if(self.downsample):\n",
    "            identity = self.down(x)\n",
    "\n",
    "        out += identity\n",
    "        out = self.relu(out)\n",
    "\n",
    "        return out\n",
    "    \n",
    "class ResNet(nn.Module):\n",
    "    def __init__(self, depth:int, nClasses:int=10, inputDim:Tuple[int] = (3,32,32)):\n",
    "        super().__init__()\n",
    "        \n",
    "        self.depth = depth\n",
    "        self.nClasses = nClasses\n",
    "        self.inputDim = inputDim\n",
    "        \n",
    "        # initial layer\n",
    "        modDict = nn.ModuleDict([['layer0', nn.Sequential(nn.Conv2d(3, 64, kernel_size=3, stride=2, padding=3),\n",
    "                                                          nn.BatchNorm2d(64),\n",
    "                                                          #nn.MaxPool2d(kernel_size=3, stride=2, padding=1, dilation=1, ceil_mode=False),\n",
    "                                                          nn.ReLU())]])\n",
    "        # core layers\n",
    "        loc_c = 64\n",
    "        for i in range(1, depth+1):\n",
    "            # current layer\n",
    "            if(i==1):\n",
    "                modDictLoc = nn.ModuleDict([(f'layer{i}', nn.Sequential(BasicBlock(in_c=loc_c, downsample=False),\n",
    "                                                                        BasicBlock(in_c=loc_c, downsample=False)))])\n",
    "            else:\n",
    "                modDictLoc = nn.ModuleDict([(f'layer{i}', nn.Sequential(BasicBlock(in_c=loc_c,   downsample=True),\n",
    "                                                                        BasicBlock(in_c=2*loc_c, downsample=False)))])\n",
    "                loc_c*=2\n",
    "            # update\n",
    "            modDict.update(modDictLoc)\n",
    "\n",
    "\n",
    "        # check feature dimension\n",
    "        modDict.update(nn.ModuleDict([(f'layer{depth+1}', nn.AdaptiveAvgPool2d(output_size=(1,1)))]))\n",
    "        x_in = torch.zeros((1,*inputDim))\n",
    "        for i in range(depth+2):\n",
    "            x_in = modDict[f'layer{i}'](x_in)\n",
    "        self.in_feat = np.prod(x_in.shape[1:])\n",
    "\n",
    "        # end layer\n",
    "        modDict.update(nn.ModuleDict([(f'layer{depth+2}', nn.Sequential(nn.Flatten(),\n",
    "                                                                        nn.Linear(in_features=self.in_feat, out_features=nClasses, bias=True)))]))\n",
    "\n",
    "        # register parameters\n",
    "        self.modDict = modDict\n",
    "        \n",
    "    def forward(self, x):\n",
    "        for i in range(self.depth+3):\n",
    "            x = self.modDict[f'layer{i}'](x)\n",
    "            \n",
    "        return x"
   ]
  },
  {
   "cell_type": "code",
   "execution_count": 55,
   "id": "7975af03",
   "metadata": {},
   "outputs": [
    {
     "data": {
      "text/plain": [
       "torch.Size([33, 10])"
      ]
     },
     "execution_count": 55,
     "metadata": {},
     "output_type": "execute_result"
    }
   ],
   "source": [
    "x = torch.rand((33, 3, 32, 32))\n",
    "\n",
    "rNet = ResNet(depth=4)\n",
    "\n",
    "rNet(x).shape"
   ]
  }
 ],
 "metadata": {
  "kernelspec": {
   "display_name": "diff",
   "language": "python",
   "name": "diff"
  },
  "language_info": {
   "codemirror_mode": {
    "name": "ipython",
    "version": 3
   },
   "file_extension": ".py",
   "mimetype": "text/x-python",
   "name": "python",
   "nbconvert_exporter": "python",
   "pygments_lexer": "ipython3",
   "version": "3.10.11"
  }
 },
 "nbformat": 4,
 "nbformat_minor": 5
}
