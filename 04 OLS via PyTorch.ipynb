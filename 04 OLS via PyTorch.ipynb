{
 "cells": [
  {
   "cell_type": "code",
   "execution_count": 1,
   "id": "13d460fe",
   "metadata": {},
   "outputs": [],
   "source": [
    "import os\n",
    "import numpy as np\n",
    "import pandas as pd\n",
    "from sklearn.linear_model import LinearRegression\n",
    "\n",
    "import torch\n",
    "import torch.nn as nn\n",
    "import torch.optim as optim\n",
    "import torch.nn.functional as F\n",
    "from torch.utils.data import Dataset, DataLoader\n",
    "\n",
    "import torchmetrics"
   ]
  },
  {
   "cell_type": "code",
   "execution_count": 2,
   "id": "ab9f62a0",
   "metadata": {},
   "outputs": [],
   "source": [
    "# Input Parameters\n",
    "\n",
    "n        = 1024\n",
    "b_size   = 1\n",
    "n_epochs = 50"
   ]
  },
  {
   "cell_type": "code",
   "execution_count": 3,
   "id": "9b29f6d6",
   "metadata": {},
   "outputs": [],
   "source": [
    "def createPointCloud(n:int, k:int, k_eff:int, vola:float=0.3, seedVal:int=5493) -> pd.DataFrame:\n",
    "    '''\n",
    "    creates dataset\n",
    "    '''\n",
    "\n",
    "    assert k>=k_eff, \"Dimension `k` must be bigger than effective dimension `k_eff`.\"\n",
    "    assert vola >= 0.0, \"Error vola must be non-negative.\"\n",
    "\n",
    "    # set seed\n",
    "    np.random.seed(seedVal)\n",
    "    \n",
    "    # get data\n",
    "    X         = np.random.normal(0, 1, n*k).reshape(n, -1)\n",
    "    id_eff    = np.random.choice(a=range(X.shape[1]), size=k_eff, replace=False)\n",
    "\n",
    "    # beta\n",
    "    beta      = np.random.normal(0, 4, X.shape[1]).round(3)\n",
    "    beta[[i for i in range(len(beta)) if i not in id_eff]] = 0.\n",
    "    \n",
    "    # debug\n",
    "    beta     = np.zeros_like(beta)\n",
    "    beta[1] = -2\n",
    "    beta[3] = 1.5\n",
    "    beta[7] = 4\n",
    "\n",
    "    # response : `y`\n",
    "    y = X@beta \n",
    "    y += np.random.normal(loc=0, scale=vola, size=y.shape)\n",
    "    \n",
    "    outDict = {'y' : y}\n",
    "    outDict.update( {f'x_{i}' : x for i, x in enumerate(X.T, start=1)})\n",
    "    \n",
    "    return pd.DataFrame(outDict)"
   ]
  },
  {
   "cell_type": "code",
   "execution_count": 4,
   "id": "0ff5e062",
   "metadata": {},
   "outputs": [],
   "source": [
    "class pointCloud(Dataset):\n",
    "    \n",
    "    def __init__(self, df:pd.DataFrame):\n",
    "        self.dataframe = df\n",
    "        self.DF = df.to_numpy()\n",
    "        \n",
    "    def __len__(self):\n",
    "        return len(self.dataframe)\n",
    "        \n",
    "    def __getitem__(self, idx):\n",
    "        assert idx in range(self.__len__())\n",
    "        return self.DF[idx,:]"
   ]
  },
  {
   "cell_type": "code",
   "execution_count": 5,
   "id": "e82c8da0",
   "metadata": {},
   "outputs": [],
   "source": [
    "# Create data\n",
    "\n",
    "# sample data\n",
    "k, k_eff = 15, 5\n",
    "df = createPointCloud(n, k, k_eff)\n",
    "\n",
    "# ...Dataset\n",
    "dset_train = pointCloud(df.iloc[:round(0.8*len(df))])\n",
    "dset_test  = pointCloud(df.iloc[round(0.8*len(df)):])\n",
    "\n",
    "# ...Dataloader\n",
    "trainloader = DataLoader(dataset=dset_train, batch_size = b_size, num_workers=1, pin_memory=True)\n",
    "testloader  = DataLoader(dataset=dset_test,  batch_size = len(dset_test), num_workers=1, pin_memory=True)"
   ]
  },
  {
   "cell_type": "code",
   "execution_count": 6,
   "id": "c8740a6c",
   "metadata": {},
   "outputs": [],
   "source": [
    "# Model\n",
    "class LinMod(nn.Module):\n",
    "    \n",
    "    def __init__(self,):\n",
    "        super().__init__()\n",
    "        self.flatten = nn.Flatten()\n",
    "        self.lin     = nn.Linear(in_features=k, out_features=1, bias=True)\n",
    "        \n",
    "    def forward(self, x):\n",
    "        x = self.flatten(x)\n",
    "        x = self.lin(x)\n",
    "        \n",
    "        return x[:,0]\n",
    "    \n",
    "    def eval(self,):\n",
    "        self.coef_ = list(self.parameters())[0].data.numpy()[0]\n",
    "        \n",
    "\n",
    "\n",
    "# create instance \n",
    "lm1 = LinMod()"
   ]
  },
  {
   "cell_type": "code",
   "execution_count": 7,
   "id": "1c2ddda7",
   "metadata": {},
   "outputs": [],
   "source": [
    "# optimizer, criterion\n",
    "criterion = nn.MSELoss() # L1Loss\n",
    "optimizer = optim.SGD(params=lm1.parameters(), lr=0.001, weight_decay=0.000001)"
   ]
  },
  {
   "cell_type": "code",
   "execution_count": 8,
   "id": "5ae8fb04",
   "metadata": {},
   "outputs": [
    {
     "name": "stdout",
     "output_type": "stream",
     "text": [
      "Epoch :  1\n",
      "[1,  1] loss: 1018.8865\n",
      "Epoch :  2\n",
      "[2,  2] loss: 136.4118\n",
      "Epoch :  3\n",
      "[3,  3] loss: 20.2651\n",
      "Epoch :  4\n",
      "[4,  4] loss: 15.1885\n",
      "Epoch :  5\n",
      "[5,  5] loss: 14.8837\n",
      "Epoch :  6\n",
      "[6,  6] loss: 14.8668\n",
      "Epoch :  7\n",
      "[7,  7] loss: 14.8672\n",
      "Epoch :  8\n",
      "[8,  8] loss: 14.8678\n",
      "Epoch :  9\n",
      "[9,  9] loss: 14.8680\n",
      "Epoch :  10\n",
      "[10, 10] loss: 14.8681\n",
      "Epoch :  11\n",
      "[11, 11] loss: 14.8681\n",
      "Epoch :  12\n",
      "[12, 12] loss: 14.8681\n",
      "Epoch :  13\n",
      "[13, 13] loss: 14.8681\n",
      "Epoch :  14\n",
      "[14, 14] loss: 14.8681\n",
      "Epoch :  15\n",
      "[15, 15] loss: 14.8681\n",
      "Epoch :  16\n",
      "[16, 16] loss: 14.8681\n",
      "Epoch :  17\n",
      "[17, 17] loss: 14.8681\n",
      "Epoch :  18\n",
      "[18, 18] loss: 14.8681\n",
      "Epoch :  19\n",
      "[19, 19] loss: 14.8681\n",
      "Epoch :  20\n",
      "[20, 20] loss: 14.8681\n",
      "Epoch :  21\n",
      "[21, 21] loss: 14.8681\n",
      "Epoch :  22\n",
      "[22, 22] loss: 14.8681\n",
      "Epoch :  23\n",
      "[23, 23] loss: 14.8681\n",
      "Epoch :  24\n",
      "[24, 24] loss: 14.8681\n",
      "Epoch :  25\n",
      "[25, 25] loss: 14.8681\n",
      "Epoch :  26\n",
      "[26, 26] loss: 14.8681\n",
      "Epoch :  27\n",
      "[27, 27] loss: 14.8681\n",
      "Epoch :  28\n",
      "[28, 28] loss: 14.8681\n",
      "Epoch :  29\n",
      "[29, 29] loss: 14.8681\n",
      "Epoch :  30\n",
      "[30, 30] loss: 14.8681\n",
      "Epoch :  31\n",
      "[31, 31] loss: 14.8681\n",
      "Epoch :  32\n",
      "[32, 32] loss: 14.8681\n",
      "Epoch :  33\n",
      "[33, 33] loss: 14.8681\n",
      "Epoch :  34\n",
      "[34, 34] loss: 14.8681\n",
      "Epoch :  35\n",
      "[35, 35] loss: 14.8681\n",
      "Epoch :  36\n",
      "[36, 36] loss: 14.8681\n",
      "Epoch :  37\n",
      "[37, 37] loss: 14.8681\n",
      "Epoch :  38\n",
      "[38, 38] loss: 14.8681\n",
      "Epoch :  39\n",
      "[39, 39] loss: 14.8681\n",
      "Epoch :  40\n",
      "[40, 40] loss: 14.8681\n",
      "Epoch :  41\n",
      "[41, 41] loss: 14.8681\n",
      "Epoch :  42\n",
      "[42, 42] loss: 14.8681\n",
      "Epoch :  43\n",
      "[43, 43] loss: 14.8681\n",
      "Epoch :  44\n",
      "[44, 44] loss: 14.8681\n",
      "Epoch :  45\n",
      "[45, 45] loss: 14.8681\n",
      "Epoch :  46\n",
      "[46, 46] loss: 14.8681\n",
      "Epoch :  47\n",
      "[47, 47] loss: 14.8681\n",
      "Epoch :  48\n",
      "[48, 48] loss: 14.8681\n",
      "Epoch :  49\n",
      "[49, 49] loss: 14.8681\n",
      "Epoch :  50\n",
      "[50, 50] loss: 14.8681\n",
      "Training: Done.\n"
     ]
    }
   ],
   "source": [
    "running_loss = 0.0\n",
    "\n",
    "# epoch loop\n",
    "for i in range(n_epochs):\n",
    "    print('Epoch : ', i+1)\n",
    "    # batch loop\n",
    "    for j,b in enumerate(trainloader):\n",
    "        y, x = b[:,0].type(torch.float), b[:,1:].type(torch.float)\n",
    "        \n",
    "        # backprop\n",
    "        optimizer.zero_grad()\n",
    "        \n",
    "        y_hat = lm1(x)\n",
    "        loss = criterion(y_hat, y)\n",
    "        loss.backward()\n",
    "        optimizer.step()\n",
    "\n",
    "        # print statistics\n",
    "        running_loss += loss.item()\n",
    "        if j % 512 == 511:    # print every 2000 mini-batches\n",
    "            print(f'[{i + 1}, {i + 1:2d}] loss: {running_loss / 5:.4f}')\n",
    "            running_loss = 0.0\n",
    "        \n",
    "print('Training: Done.')\n",
    "\n",
    "with torch.no_grad():\n",
    "    for b in testloader:\n",
    "        y, x = b[:,0].type(torch.float), b[:,1:].type(torch.float)\n",
    "        y_hat_test = lm1(x)\n",
    "        y_test = y\n",
    "        \n",
    "        break\n",
    "        "
   ]
  },
  {
   "cell_type": "code",
   "execution_count": 9,
   "id": "fc2cfc8a",
   "metadata": {},
   "outputs": [
    {
     "data": {
      "text/plain": [
       "tensor(0.0797)"
      ]
     },
     "execution_count": 9,
     "metadata": {},
     "output_type": "execute_result"
    }
   ],
   "source": [
    "# compute test accuracy\n",
    "mse = torchmetrics.MeanSquaredError()\n",
    "mse(y_test, y_hat_test.flatten())"
   ]
  },
  {
   "cell_type": "code",
   "execution_count": 11,
   "id": "b3512b8d",
   "metadata": {},
   "outputs": [
    {
     "data": {
      "text/plain": [
       "0.64"
      ]
     },
     "execution_count": 11,
     "metadata": {},
     "output_type": "execute_result"
    }
   ],
   "source": [
    "0.3*np.sqrt(1024)/15."
   ]
  },
  {
   "cell_type": "code",
   "execution_count": null,
   "id": "379a7552",
   "metadata": {},
   "outputs": [],
   "source": [
    "# visually assess parameter estimates\n",
    "lm1.eval()\n",
    "lm1.coef_.round(2)"
   ]
  }
 ],
 "metadata": {
  "kernelspec": {
   "display_name": "diff",
   "language": "python",
   "name": "diff"
  },
  "language_info": {
   "codemirror_mode": {
    "name": "ipython",
    "version": 3
   },
   "file_extension": ".py",
   "mimetype": "text/x-python",
   "name": "python",
   "nbconvert_exporter": "python",
   "pygments_lexer": "ipython3",
   "version": "3.10.11"
  }
 },
 "nbformat": 4,
 "nbformat_minor": 5
}
