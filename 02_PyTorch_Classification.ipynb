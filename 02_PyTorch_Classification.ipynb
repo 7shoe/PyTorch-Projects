{
 "cells": [
  {
   "cell_type": "code",
   "execution_count": 1,
   "id": "ccda11d7",
   "metadata": {},
   "outputs": [],
   "source": [
    "import os\n",
    "import time\n",
    "import numpy as np\n",
    "import datasets\n",
    "from datasets import load_dataset, list_datasets, Dataset\n",
    "import huggingface_hub\n",
    "from matplotlib import pyplot as plt\n",
    "\n",
    "import torch\n",
    "import torchvision\n",
    "import torchvision.transforms as transforms\n",
    "from torch.utils.data import DataLoader\n",
    "\n",
    "import torch.nn as nn\n",
    "import torch.nn.functional as F\n",
    "\n",
    "import torch.optim as optim"
   ]
  },
  {
   "cell_type": "code",
   "execution_count": 2,
   "id": "3f567b44",
   "metadata": {},
   "outputs": [],
   "source": [
    "# start time \n",
    "t0 = time.time()"
   ]
  },
  {
   "cell_type": "code",
   "execution_count": 3,
   "id": "7db8fc37",
   "metadata": {},
   "outputs": [],
   "source": [
    "# context\n",
    "torch.multiprocessing.set_start_method('spawn')"
   ]
  },
  {
   "cell_type": "code",
   "execution_count": 4,
   "id": "25700141",
   "metadata": {},
   "outputs": [],
   "source": [
    "def transforms(data):\n",
    "    data['data'] = data['image'].type(torch.FloatTensor)\n",
    "    return data"
   ]
  },
  {
   "cell_type": "code",
   "execution_count": 5,
   "id": "7cad070f",
   "metadata": {},
   "outputs": [
    {
     "name": "stderr",
     "output_type": "stream",
     "text": [
      "Found cached dataset mnist (/eagle/projects/candle_aesp/siebenschuh/HF/mnist/mnist/1.0.0/9d494b7f466d6931c64fb39d58bb1249a4d85c9eb9865d9bc20960b999e2a332)\n",
      "Found cached dataset mnist (/eagle/projects/candle_aesp/siebenschuh/HF/mnist/mnist/1.0.0/9d494b7f466d6931c64fb39d58bb1249a4d85c9eb9865d9bc20960b999e2a332)\n"
     ]
    }
   ],
   "source": [
    "# load dataset `mnist`\n",
    "mnist_train = load_dataset(path='mnist', \n",
    "                           split='train', \n",
    "                           cache_dir=\"/eagle/projects/candle_aesp/siebenschuh/HF\") #.cast_column(\"image\", float)\n",
    "mnist_test  = load_dataset('mnist', \n",
    "                           split='test', \n",
    "                           cache_dir=\"/eagle/projects/candle_aesp/siebenschuh/HF\") #.cast_column(\"image\", float)\n",
    "\n",
    "# device\n",
    "device = torch.device(\"cuda\" if torch.cuda.is_available() else \"cpu\")\n",
    "\n",
    "# float tensor\n",
    "dset_train = torchvision.datasets.MNIST(root=\"/eagle/projects/candle_aesp/siebenschuh/PT\", train=True, download=True)\n",
    "dset_test  = torchvision.datasets.MNIST(root=\"/eagle/projects/candle_aesp/siebenschuh/PT\", train=False, download=True)\n",
    "\n",
    "# dsets\n",
    "#mnist_train = mnist_train.with_format(type=\"torch\", device=device)\n",
    "#mnist_test  = mnist_test.with_format(type=\"torch\", device=device)\n",
    "\n",
    "# actual dsets\n",
    "#dset_train = mnist_train.map(transforms, remove_columns=[\"image\"], batched=False)\n",
    "#dset_test = mnist_test.map(transforms, remove_columns=[\"image\"], batched=False)"
   ]
  },
  {
   "cell_type": "code",
   "execution_count": 6,
   "id": "dd0b2cdd",
   "metadata": {},
   "outputs": [],
   "source": [
    "if(device.type!='cuda'):\n",
    "    # Show a digit\n",
    "    digit_id = 5\n",
    "    plt.figure(figsize=(3,3))\n",
    "    plt.imshow(mnist_train['image'][digit_id], cmap='Greys', interpolation='nearest')\n",
    "    plt.title(f'Digit `{mnist_train[\"label\"][digit_id]}`', fontsize=14)\n",
    "    plt.axis('off')\n",
    "    plt.show()"
   ]
  },
  {
   "cell_type": "markdown",
   "id": "66a2523b",
   "metadata": {},
   "source": [
    "## Input Parameters"
   ]
  },
  {
   "cell_type": "code",
   "execution_count": 7,
   "id": "6b64412a",
   "metadata": {},
   "outputs": [],
   "source": [
    "b_size = 128"
   ]
  },
  {
   "cell_type": "markdown",
   "id": "b48cada7",
   "metadata": {},
   "source": [
    "## Model"
   ]
  },
  {
   "cell_type": "code",
   "execution_count": 8,
   "id": "81cb4e62",
   "metadata": {},
   "outputs": [],
   "source": [
    "class Net(nn.Module):\n",
    "    def __init__(self):\n",
    "        super().__init__()\n",
    "        self.conv1 = nn.Conv2d(1, 6, 5)\n",
    "        self.pool  = nn.MaxPool2d(2, 2)\n",
    "        self.conv2 = nn.Conv2d(6, 16, 5)\n",
    "        self.fc1   = nn.Linear(16 * 4 * 4, 128)\n",
    "        self.fc2   = nn.Linear(128, 64)\n",
    "        self.fc3   = nn.Linear(64, 10)\n",
    "\n",
    "    def forward(self, x):\n",
    "        x = self.pool(F.relu(self.conv1(x)))\n",
    "        x = self.pool(F.relu(self.conv2(x)))\n",
    "        x = torch.flatten(x, 1) # flatten all dim except batch\n",
    "        x = F.relu(self.fc1(x))\n",
    "        x = F.relu(self.fc2(x))\n",
    "        x = self.fc3(x)\n",
    "        \n",
    "        return x"
   ]
  },
  {
   "cell_type": "code",
   "execution_count": 9,
   "id": "da1617c6",
   "metadata": {},
   "outputs": [
    {
     "ename": "AttributeError",
     "evalue": "'function' object has no attribute 'ToTensor'",
     "output_type": "error",
     "traceback": [
      "\u001b[0;31m---------------------------------------------------------------------------\u001b[0m",
      "\u001b[0;31mAttributeError\u001b[0m                            Traceback (most recent call last)",
      "Cell \u001b[0;32mIn[9], line 1\u001b[0m\n\u001b[0;32m----> 1\u001b[0m transform \u001b[38;5;241m=\u001b[39m \u001b[43mtransforms\u001b[49m\u001b[38;5;241;43m.\u001b[39;49m\u001b[43mToTensor\u001b[49m()\n\u001b[1;32m      3\u001b[0m \u001b[38;5;66;03m# Custom collate function\u001b[39;00m\n\u001b[1;32m      4\u001b[0m \u001b[38;5;28;01mdef\u001b[39;00m \u001b[38;5;21mcustom_collate\u001b[39m(batch):\n\u001b[1;32m      5\u001b[0m     \u001b[38;5;66;03m# Convert PIL.Image.Image objects to tensors\u001b[39;00m\n",
      "\u001b[0;31mAttributeError\u001b[0m: 'function' object has no attribute 'ToTensor'"
     ]
    }
   ],
   "source": [
    "transform = transforms.ToTensor()\n",
    "\n",
    "# Custom collate function\n",
    "def custom_collate(batch):\n",
    "    # Convert PIL.Image.Image objects to tensors\n",
    "    batch = [transform(image) for image in batch]\n",
    "    # Return the batch\n",
    "    return torch.stack(batch, dim=0)"
   ]
  },
  {
   "cell_type": "code",
   "execution_count": null,
   "id": "2cd825e1",
   "metadata": {},
   "outputs": [],
   "source": [
    "# data loader\n",
    "trainloader = torch.utils.data.DataLoader(dset_train, \n",
    "                                          batch_size=b_size, \n",
    "                                          shuffle=True, \n",
    "                                          num_workers=1,\n",
    "                                          collate_fn=custom_collate)\n",
    "\n",
    "testloader  = torch.utils.data.DataLoader(dset_test, \n",
    "                                          batch_size=b_size, \n",
    "                                          shuffle=True, \n",
    "                                          num_workers=1,\n",
    "                                          collate_fn=custom_collate)\n",
    "\n",
    "classes=tuple([str(i) for i in range(10)])"
   ]
  },
  {
   "cell_type": "code",
   "execution_count": null,
   "id": "0690e8bb",
   "metadata": {},
   "outputs": [],
   "source": [
    "# Model Instance\n",
    "net = Net()\n",
    "net = net.to(device)\n",
    "\n",
    "# Loss & Optimizer\n",
    "criterion = nn.CrossEntropyLoss()\n",
    "optimizer = optim.Adam(net.parameters(), lr=0.001)"
   ]
  },
  {
   "cell_type": "code",
   "execution_count": null,
   "id": "2dc840c0",
   "metadata": {},
   "outputs": [],
   "source": [
    "# Training\n",
    "for epoch in range(6):  # loop over the dataset multiple times\n",
    "    running_loss = 0.0\n",
    "    for i, data in enumerate(trainloader, 0):\n",
    "        # get the inputs; data is a list of [inputs, labels]\n",
    "        #inputs, labels = data['image'], data['label']\n",
    "        inputs, labels = data #['data'].reshape((-1,1,28,28)), data['label']\n",
    "\n",
    "        # zero the parameter gradients\n",
    "        optimizer.zero_grad()\n",
    "\n",
    "        # forward + backward + optimize\n",
    "        outputs = net(inputs)\n",
    "        loss = criterion(outputs, labels)\n",
    "        loss.backward()\n",
    "        optimizer.step()\n",
    "\n",
    "        # print statistics\n",
    "        running_loss += loss.item()\n",
    "        if i % 200 == 199:    # print every 2000 mini-batches\n",
    "            print(f'[{epoch + 1}, {i + 1:5d}] loss: {running_loss / 2000:.3f}')\n",
    "            running_loss = 0.0\n",
    "\n",
    "print('Finished Training')"
   ]
  },
  {
   "cell_type": "markdown",
   "id": "97ffd74d",
   "metadata": {},
   "source": [
    "## Inference"
   ]
  },
  {
   "cell_type": "code",
   "execution_count": null,
   "id": "ca2b0ed7",
   "metadata": {},
   "outputs": [],
   "source": [
    "def acc(inputs, labels, model):\n",
    "    pred = (model(inputs).argmax(axis=1)).cpu()\n",
    "    gt = labels.cpu()\n",
    "    \n",
    "    # difference\n",
    "    diff = (pred - gt)\n",
    "    diff[diff!=0]=1\n",
    "\n",
    "    return (1. - diff.sum() / len(diff)) * 100."
   ]
  },
  {
   "cell_type": "code",
   "execution_count": null,
   "id": "707adc97",
   "metadata": {},
   "outputs": [],
   "source": [
    "net.eval()\n",
    "\n",
    "accList = []\n",
    "for i, data in enumerate(testloader, 0):\n",
    "    inputs, labels = data['data'].reshape((-1,1,28,28)), data['label']\n",
    "    \n",
    "    accList.append(acc(inputs, labels, net))\n",
    "    \n",
    "print(f'Mean accuracy: {np.mean(accList):.2f}%')"
   ]
  },
  {
   "cell_type": "code",
   "execution_count": null,
   "id": "33d2eb01",
   "metadata": {},
   "outputs": [],
   "source": [
    "# end\n",
    "t1 = time.time()\n",
    "\n",
    "print(f'Comp. time: {t1-t0:.2f}')"
   ]
  }
 ],
 "metadata": {
  "kernelspec": {
   "display_name": "diff",
   "language": "python",
   "name": "diff"
  },
  "language_info": {
   "codemirror_mode": {
    "name": "ipython",
    "version": 3
   },
   "file_extension": ".py",
   "mimetype": "text/x-python",
   "name": "python",
   "nbconvert_exporter": "python",
   "pygments_lexer": "ipython3",
   "version": "3.10.11"
  }
 },
 "nbformat": 4,
 "nbformat_minor": 5
}
