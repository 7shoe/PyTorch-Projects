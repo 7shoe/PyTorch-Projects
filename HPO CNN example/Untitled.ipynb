{
 "cells": [
  {
   "cell_type": "code",
   "execution_count": 8,
   "id": "7f90369f",
   "metadata": {},
   "outputs": [],
   "source": [
    "import os\n",
    "from pathlib import Path\n",
    "import numpy as np\n",
    "from PIL import Image\n",
    "from matplotlib import pyplot as plt\n",
    "\n",
    "import torch\n",
    "import torch.nn as nn\n",
    "import torch.nn.functional as F\n",
    "import torch.optim as optim\n",
    "\n",
    "from torchvision.transforms import transforms\n",
    "import torchvision.datasets\n",
    "from torch.utils.data import DataLoader\n",
    "\n",
    "import torchmetrics"
   ]
  },
  {
   "cell_type": "code",
   "execution_count": 2,
   "id": "9de2738a",
   "metadata": {},
   "outputs": [],
   "source": [
    "# setting\n",
    "data_root_path = Path('/eagle/projects/candle_aesp/siebenschuh/PT/')\n",
    "\n",
    "# input\n",
    "l_rate     = 0.001\n",
    "b_size     = 128\n",
    "opt        = 'Adam'\n",
    "moment     = 0.2\n",
    "max_epochs = 12"
   ]
  },
  {
   "cell_type": "code",
   "execution_count": 4,
   "id": "2e8a586c",
   "metadata": {},
   "outputs": [],
   "source": [
    "# load & pre-process data\n",
    "dset_train = torchvision.datasets.CIFAR10(root=data_root_path, train=True, download=False)\n",
    "dset_test  = torchvision.datasets.CIFAR10(root=data_root_path, train=False, download=False)"
   ]
  },
  {
   "cell_type": "code",
   "execution_count": 27,
   "id": "7a402afd",
   "metadata": {},
   "outputs": [
    {
     "data": {
      "text/plain": [
       "<matplotlib.image.AxesImage at 0x7f54dbcd50f0>"
      ]
     },
     "execution_count": 27,
     "metadata": {},
     "output_type": "execute_result"
    },
    {
     "data": {
      "image/png": "[encoded data removed]",
      "text/plain": [
       "<Figure size 640x480 with 1 Axes>"
      ]
     },
     "metadata": {},
     "output_type": "display_data"
    }
   ],
   "source": [
    "# Show image\n",
    "k_id = 5\n",
    "plt.title(f'Image label: `{dset_train[k_id][1]}`')\n",
    "plt.imshow(dset_train[k_id][0])"
   ]
  },
  {
   "cell_type": "code",
   "execution_count": 26,
   "id": "3a1afc49",
   "metadata": {},
   "outputs": [],
   "source": [
    "# Compose\n",
    "transforms.Compose?"
   ]
  },
  {
   "cell_type": "code",
   "execution_count": null,
   "id": "82692e9f",
   "metadata": {},
   "outputs": [],
   "source": [
    "# Try out "
   ]
  },
  {
   "cell_type": "code",
   "execution_count": 24,
   "id": "a414ab4d",
   "metadata": {},
   "outputs": [
    {
     "data": {
      "text/plain": [
       "['CenterCrop',\n",
       " 'ColorJitter',\n",
       " 'Compose',\n",
       " 'ConvertImageDtype',\n",
       " 'ElasticTransform',\n",
       " 'F',\n",
       " 'FiveCrop',\n",
       " 'GaussianBlur',\n",
       " 'Grayscale',\n",
       " 'InterpolationMode',\n",
       " 'Lambda',\n",
       " 'LinearTransformation',\n",
       " 'List',\n",
       " 'Normalize',\n",
       " 'Optional',\n",
       " 'PILToTensor',\n",
       " 'Pad',\n",
       " 'RandomAdjustSharpness',\n",
       " 'RandomAffine',\n",
       " 'RandomApply',\n",
       " 'RandomAutocontrast',\n",
       " 'RandomChoice',\n",
       " 'RandomCrop',\n",
       " 'RandomEqualize',\n",
       " 'RandomErasing',\n",
       " 'RandomGrayscale',\n",
       " 'RandomHorizontalFlip',\n",
       " 'RandomInvert',\n",
       " 'RandomOrder',\n",
       " 'RandomPerspective',\n",
       " 'RandomPosterize',\n",
       " 'RandomResizedCrop',\n",
       " 'RandomRotation',\n",
       " 'RandomSolarize',\n",
       " 'RandomTransforms',\n",
       " 'RandomVerticalFlip',\n",
       " 'Resize',\n",
       " 'Sequence',\n",
       " 'TenCrop',\n",
       " 'Tensor',\n",
       " 'ToPILImage',\n",
       " 'ToTensor',\n",
       " 'Tuple',\n",
       " 'Union',\n",
       " '__all__',\n",
       " '__builtins__',\n",
       " '__cached__',\n",
       " '__doc__',\n",
       " '__file__',\n",
       " '__loader__',\n",
       " '__name__',\n",
       " '__package__',\n",
       " '__spec__',\n",
       " '_check_sequence_input',\n",
       " '_interpolation_modes_from_int',\n",
       " '_log_api_usage_once',\n",
       " '_setup_angle',\n",
       " '_setup_size',\n",
       " 'accimage',\n",
       " 'math',\n",
       " 'numbers',\n",
       " 'random',\n",
       " 'torch',\n",
       " 'warnings']"
      ]
     },
     "execution_count": 24,
     "metadata": {},
     "output_type": "execute_result"
    }
   ],
   "source": [
    "dir(transforms)"
   ]
  },
  {
   "cell_type": "code",
   "execution_count": null,
   "id": "78f02b6f",
   "metadata": {},
   "outputs": [],
   "source": [
    "# transforms\n",
    "\n",
    "def cifar_trafo(img:Image):\n",
    "    '''\n",
    "    Image transformation:\n",
    "    \n",
    "    img (Image) -> torch.Tensor(torch.float)\n",
    "    '''\n",
    "    \n",
    "    "
   ]
  },
  {
   "cell_type": "code",
   "execution_count": null,
   "id": "2f68e381",
   "metadata": {},
   "outputs": [],
   "source": [
    "\n",
    "\n",
    "\n",
    "# load data\n",
    "\n",
    "# model \n",
    "\n",
    "# optimizer, criterion\n",
    "\n",
    "# training\n",
    "\n",
    "# inference\n"
   ]
  },
  {
   "cell_type": "code",
   "execution_count": null,
   "id": "f97befac",
   "metadata": {},
   "outputs": [],
   "source": [
    "# torch.no_grad"
   ]
  },
  {
   "cell_type": "code",
   "execution_count": null,
   "id": "7866e92d",
   "metadata": {},
   "outputs": [],
   "source": []
  }
 ],
 "metadata": {
  "kernelspec": {
   "display_name": "diff",
   "language": "python",
   "name": "diff"
  },
  "language_info": {
   "codemirror_mode": {
    "name": "ipython",
    "version": 3
   },
   "file_extension": ".py",
   "mimetype": "text/x-python",
   "name": "python",
   "nbconvert_exporter": "python",
   "pygments_lexer": "ipython3",
   "version": "3.10.11"
  }
 },
 "nbformat": 4,
 "nbformat_minor": 5
}
