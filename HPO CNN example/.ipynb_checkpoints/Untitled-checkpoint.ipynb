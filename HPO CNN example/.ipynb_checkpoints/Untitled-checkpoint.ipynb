{
 "cells": [
  {
   "cell_type": "code",
   "execution_count": 1,
   "id": "7f90369f",
   "metadata": {},
   "outputs": [],
   "source": [
    "import os\n",
    "from pathlib import Path\n",
    "import numpy as np\n",
    "from PIL import Image\n",
    "\n",
    "\n",
    "import torch\n",
    "import torch.nn as nn\n",
    "import torch.nn.functional as F\n",
    "import torch.optim as optim\n",
    "\n",
    "from torchvision.transforms import transforms\n",
    "import torchvision.datasets\n",
    "from torch.utils.data import DataLoader\n",
    "\n",
    "import torchmetrics"
   ]
  },
  {
   "cell_type": "code",
   "execution_count": 2,
   "id": "3b2fb374",
   "metadata": {},
   "outputs": [],
   "source": [
    "# setting\n",
    "data_root_path = Path('/eagle/projects/candle_aesp/siebenschuh/PT/')\n",
    "\n",
    "# input\n",
    "l_rate     = 0.001\n",
    "b_size     = 128\n",
    "opt        = 'Adam'\n",
    "moment     = 0.2\n",
    "max_epochs = 12"
   ]
  },
  {
   "cell_type": "code",
   "execution_count": null,
   "id": "94b60d7a",
   "metadata": {},
   "outputs": [],
   "source": [
    "# load & pre-process data\n",
    "dset_train = torchvision.datasets.CIFAR10(root=data_root_path, train=True, download=True)\n",
    "dset_test  = torchvision.datasets.CIFAR10(root=data_root_path, train=False, download=True)"
   ]
  },
  {
   "cell_type": "code",
   "execution_count": null,
   "id": "8f61a677",
   "metadata": {},
   "outputs": [],
   "source": [
    "# transforms\n",
    "\n",
    "def cifar_trafo(img:Image):\n",
    "    '''\n",
    "    Image transformation:\n",
    "    \n",
    "    img (Image) -> torch.Tensor(torch.float)\n",
    "    '''"
   ]
  },
  {
   "cell_type": "code",
   "execution_count": null,
   "id": "8eb6940a",
   "metadata": {},
   "outputs": [],
   "source": [
    "\n",
    "\n",
    "\n",
    "# load data\n",
    "\n",
    "# model \n",
    "\n",
    "# optimizer, criterion\n",
    "\n",
    "# training\n",
    "\n",
    "# inference\n"
   ]
  },
  {
   "cell_type": "code",
   "execution_count": null,
   "id": "d988cdce",
   "metadata": {},
   "outputs": [],
   "source": [
    "# torch.no_grad"
   ]
  },
  {
   "cell_type": "code",
   "execution_count": null,
   "id": "1567caba",
   "metadata": {},
   "outputs": [],
   "source": []
  }
 ],
 "metadata": {
  "kernelspec": {
   "display_name": "diff",
   "language": "python",
   "name": "diff"
  },
  "language_info": {
   "codemirror_mode": {
    "name": "ipython",
    "version": 3
   },
   "file_extension": ".py",
   "mimetype": "text/x-python",
   "name": "python",
   "nbconvert_exporter": "python",
   "pygments_lexer": "ipython3",
   "version": "3.10.11"
  }
 },
 "nbformat": 4,
 "nbformat_minor": 5
}
